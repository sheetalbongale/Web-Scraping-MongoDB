{
 "cells": [
  {
   "cell_type": "markdown",
   "metadata": {},
   "source": [
    "# Mission to Mars - Web Scraping\n",
    "#### Submitted by : Sheetal Bongale | UT Data Analysis and Visualization | March 3, 2020\n"
   ]
  },
  {
   "cell_type": "code",
   "execution_count": 1,
   "metadata": {},
   "outputs": [],
   "source": [
    "%reload_ext lab_black\n",
    "import pandas as pd\n",
    "import pprint\n",
    "import requests\n",
    "import urllib.parse\n",
    "from bs4 import BeautifulSoup as bs\n",
    "import re\n",
    "\n",
    "from selenium import webdriver\n",
    "from splinter import Browser"
   ]
  },
  {
   "cell_type": "code",
   "execution_count": 4,
   "metadata": {},
   "outputs": [],
   "source": [
    "# URLs to be scraped:\n",
    "NEWS_URL = \"https://mars.nasa.gov/news/\"\n",
    "IMAGE_URL = \"https://www.jpl.nasa.gov/spaceimages/?search=&category=Mars\"\n",
    "WEATHER_URL = \"https://twitter.com/marswxreport?lang=en\"\n",
    "FACTS_URL = \"http://space-facts.com/mars/\"\n",
    "HEM_URL = \"https://astrogeology.usgs.gov/search/results?q=hemisphere+enhanced&k1=target&v1=Mars\""
   ]
  },
  {
   "cell_type": "markdown",
   "metadata": {},
   "source": [
    "### NASA Mars News "
   ]
  },
  {
   "cell_type": "code",
   "execution_count": 5,
   "metadata": {},
   "outputs": [
    {
     "name": "stdout",
     "output_type": "stream",
     "text": [
      "Latest News Title: NASA to Reveal Name of Its Next Mars Rover\n"
     ]
    }
   ],
   "source": [
    "# Collect the latest news title from NASA's page and the paragraph teaser text.\n",
    "# NEWS_URL = \"https://mars.nasa.gov/news/\"\n",
    "\n",
    "driver = webdriver.Firefox()\n",
    "driver.get(NEWS_URL)\n",
    "html = driver.page_source\n",
    "\n",
    "soup = bs(html, \"html.parser\")\n",
    "news_title = (soup.find(\"div\", class_=\"list_text\")).find(\"a\").text\n",
    "\n",
    "print(f\"Latest News Title: {news_title}\")\n",
    "driver.close()"
   ]
  },
  {
   "cell_type": "code",
   "execution_count": 6,
   "metadata": {},
   "outputs": [
    {
     "data": {
      "text/plain": [
       "'https://mars.nasa.gov/news//news/8619/nasa-to-reveal-name-of-its-next-mars-rover/'"
      ]
     },
     "execution_count": 6,
     "metadata": {},
     "output_type": "execute_result"
    }
   ],
   "source": [
    "teaser_url = (\n",
    "    \"https://mars.nasa.gov/news/\" + soup.find(\"div\", class_=\"list_text\").a[\"href\"]\n",
    ")\n",
    "teaser_url"
   ]
  },
  {
   "cell_type": "code",
   "execution_count": 7,
   "metadata": {},
   "outputs": [
    {
     "name": "stdout",
     "output_type": "stream",
     "text": [
      "Teaser: After a months-long contest among students to name NASA's newest Mars rover, the agency will reveal the winning name — and the winning student — this Thursday. \n"
     ]
    }
   ],
   "source": [
    "r = requests.get(teaser_url)\n",
    "html = r.text\n",
    "soup = bs(html, \"html.parser\")\n",
    "teaser = soup.find(\"div\", class_=\"wysiwyg_content\").find(\"p\").text\n",
    "\n",
    "print(f\"Teaser: {teaser}\")"
   ]
  },
  {
   "cell_type": "markdown",
   "metadata": {},
   "source": [
    "### JPL Mars Space Images - Featured Image"
   ]
  },
  {
   "cell_type": "code",
   "execution_count": 10,
   "metadata": {},
   "outputs": [
    {
     "name": "stdout",
     "output_type": "stream",
     "text": [
      "Image URL: https://www.jpl.nasa.gov/spaceimages/images/wallpaper/PIA16842-1920x1200.jpg\n",
      "Image Title: Saturn's Ring 'Rain' (Artist Concept)\n"
     ]
    }
   ],
   "source": [
    "# scarpe the JPL web page to scrape the current Featured Mars Image\n",
    "# IMAGE_URL = \"https://www.jpl.nasa.gov/spaceimages/?search=&category=Mars\"\n",
    "\n",
    "driver = webdriver.Firefox()\n",
    "driver.get(IMAGE_URL)\n",
    "html = driver.page_source\n",
    "img_soup = bs(html, \"html.parser\")\n",
    "\n",
    "img_base_url = img_soup.find(\"article\", {\"class\": \"carousel_item\"})[\"style\"]\n",
    "\n",
    "featured_image_url = re.findall(\"url\\((.*?)\\)\", img_base_url)[0].replace(\"'\", \"\")\n",
    "featured_image_url = \"https://www.jpl.nasa.gov\" + featured_image_url\n",
    "featured_image_title = img_soup.find(\"h1\", class_=\"media_feature_title\").text.strip()\n",
    "\n",
    "driver.close()\n",
    "\n",
    "print(f\"Image URL: {featured_image_url}\")\n",
    "print(f\"Image Title: {featured_image_title}\")"
   ]
  },
  {
   "cell_type": "markdown",
   "metadata": {},
   "source": [
    "### Mars Weather - Twitter"
   ]
  },
  {
   "cell_type": "code",
   "execution_count": 10,
   "metadata": {},
   "outputs": [
    {
     "name": "stdout",
     "output_type": "stream",
     "text": [
      "Current Weather on Planet Mars: \n",
      "InSight sol 450 (2020-03-02) low -93.5ºC (-136.4ºF) high -10.4ºC (13.3ºF)\n",
      "winds from the SSW at 5.5 m/s (12.4 mph) gusting to 20.6 m/s (46.1 mph)\n",
      "pressure at 6.30 hPap\n"
     ]
    }
   ],
   "source": [
    "# scrape the latest Mars weather tweet from the given twitter page\n",
    "# WEATHER_URL = \"https://twitter.com/marswxreport?lang=en\"\n",
    "\n",
    "r = requests.get(WEATHER_URL)\n",
    "html = r.text\n",
    "weather_soup = bs(html, \"html.parser\")\n",
    "mars_weather = weather_soup.find_all(\"div\", class_=\"js-tweet-text-container\")\n",
    "mars_weather = mars_weather[0].text[:-26]\n",
    "\n",
    "print(f\"Current Weather on Planet Mars: {mars_weather}\")"
   ]
  },
  {
   "cell_type": "markdown",
   "metadata": {},
   "source": [
    "### Mars Facts "
   ]
  },
  {
   "cell_type": "code",
   "execution_count": 12,
   "metadata": {},
   "outputs": [
    {
     "data": {
      "text/html": [
       "<div>\n",
       "<style scoped>\n",
       "    .dataframe tbody tr th:only-of-type {\n",
       "        vertical-align: middle;\n",
       "    }\n",
       "\n",
       "    .dataframe tbody tr th {\n",
       "        vertical-align: top;\n",
       "    }\n",
       "\n",
       "    .dataframe thead th {\n",
       "        text-align: right;\n",
       "    }\n",
       "</style>\n",
       "<table border=\"1\" class=\"dataframe\">\n",
       "  <thead>\n",
       "    <tr style=\"text-align: right;\">\n",
       "      <th></th>\n",
       "      <th>Value</th>\n",
       "    </tr>\n",
       "    <tr>\n",
       "      <th>Description</th>\n",
       "      <th></th>\n",
       "    </tr>\n",
       "  </thead>\n",
       "  <tbody>\n",
       "    <tr>\n",
       "      <th>Equatorial Diameter:</th>\n",
       "      <td>6,792 km</td>\n",
       "    </tr>\n",
       "    <tr>\n",
       "      <th>Polar Diameter:</th>\n",
       "      <td>6,752 km</td>\n",
       "    </tr>\n",
       "    <tr>\n",
       "      <th>Mass:</th>\n",
       "      <td>6.39 × 10^23 kg (0.11 Earths)</td>\n",
       "    </tr>\n",
       "    <tr>\n",
       "      <th>Moons:</th>\n",
       "      <td>2 (Phobos &amp; Deimos)</td>\n",
       "    </tr>\n",
       "    <tr>\n",
       "      <th>Orbit Distance:</th>\n",
       "      <td>227,943,824 km (1.38 AU)</td>\n",
       "    </tr>\n",
       "    <tr>\n",
       "      <th>Orbit Period:</th>\n",
       "      <td>687 days (1.9 years)</td>\n",
       "    </tr>\n",
       "    <tr>\n",
       "      <th>Surface Temperature:</th>\n",
       "      <td>-87 to -5 °C</td>\n",
       "    </tr>\n",
       "    <tr>\n",
       "      <th>First Record:</th>\n",
       "      <td>2nd millennium BC</td>\n",
       "    </tr>\n",
       "    <tr>\n",
       "      <th>Recorded By:</th>\n",
       "      <td>Egyptian astronomers</td>\n",
       "    </tr>\n",
       "  </tbody>\n",
       "</table>\n",
       "</div>"
      ],
      "text/plain": [
       "                                              Value\n",
       "Description                                        \n",
       "Equatorial Diameter:                       6,792 km\n",
       "Polar Diameter:                            6,752 km\n",
       "Mass:                 6.39 × 10^23 kg (0.11 Earths)\n",
       "Moons:                          2 (Phobos & Deimos)\n",
       "Orbit Distance:            227,943,824 km (1.38 AU)\n",
       "Orbit Period:                  687 days (1.9 years)\n",
       "Surface Temperature:                   -87 to -5 °C\n",
       "First Record:                     2nd millennium BC\n",
       "Recorded By:                   Egyptian astronomers"
      ]
     },
     "execution_count": 12,
     "metadata": {},
     "output_type": "execute_result"
    }
   ],
   "source": [
    "#  use Pandas to scrape the table containing facts about the planet including Diameter, Mass, etc.\n",
    "# FACTS_URL = \"http://space-facts.com/mars/\"\n",
    "\n",
    "# Use Pandas to read the HTML\n",
    "fact_table = pd.read_html(FACTS_URL)\n",
    "mars_fact_table = fact_table[0]\n",
    "\n",
    "mars_fact_table.columns = [\"Description\", \"Value\"]\n",
    "mars_fact_table.set_index(\"Description\", inplace=True)\n",
    "\n",
    "# Convert this facts table to HTML using Pandas\n",
    "mars_fact_table_html = mars_fact_table.to_html(justify=\"left\")\n",
    "\n",
    "\n",
    "mars_fact_table"
   ]
  },
  {
   "cell_type": "code",
   "execution_count": 13,
   "metadata": {},
   "outputs": [
    {
     "name": "stdout",
     "output_type": "stream",
     "text": [
      "<table border=\"1\" class=\"dataframe\">\n",
      "  <thead>\n",
      "    <tr style=\"text-align: left;\">\n",
      "      <th></th>\n",
      "      <th>Value</th>\n",
      "    </tr>\n",
      "    <tr>\n",
      "      <th>Description</th>\n",
      "      <th></th>\n",
      "    </tr>\n",
      "  </thead>\n",
      "  <tbody>\n",
      "    <tr>\n",
      "      <th>Equatorial Diameter:</th>\n",
      "      <td>6,792 km</td>\n",
      "    </tr>\n",
      "    <tr>\n",
      "      <th>Polar Diameter:</th>\n",
      "      <td>6,752 km</td>\n",
      "    </tr>\n",
      "    <tr>\n",
      "      <th>Mass:</th>\n",
      "      <td>6.39 × 10^23 kg (0.11 Earths)</td>\n",
      "    </tr>\n",
      "    <tr>\n",
      "      <th>Moons:</th>\n",
      "      <td>2 (Phobos &amp; Deimos)</td>\n",
      "    </tr>\n",
      "    <tr>\n",
      "      <th>Orbit Distance:</th>\n",
      "      <td>227,943,824 km (1.38 AU)</td>\n",
      "    </tr>\n",
      "    <tr>\n",
      "      <th>Orbit Period:</th>\n",
      "      <td>687 days (1.9 years)</td>\n",
      "    </tr>\n",
      "    <tr>\n",
      "      <th>Surface Temperature:</th>\n",
      "      <td>-87 to -5 °C</td>\n",
      "    </tr>\n",
      "    <tr>\n",
      "      <th>First Record:</th>\n",
      "      <td>2nd millennium BC</td>\n",
      "    </tr>\n",
      "    <tr>\n",
      "      <th>Recorded By:</th>\n",
      "      <td>Egyptian astronomers</td>\n",
      "    </tr>\n",
      "  </tbody>\n",
      "</table>\n"
     ]
    }
   ],
   "source": [
    "print(mars_fact_table_html)"
   ]
  },
  {
   "cell_type": "markdown",
   "metadata": {},
   "source": [
    "### Mars Hemispheres"
   ]
  },
  {
   "cell_type": "code",
   "execution_count": 19,
   "metadata": {},
   "outputs": [
    {
     "data": {
      "text/plain": [
       "[{'title': 'Cerberus Hemisphere Enhanced',\n",
       "  'hem_img_url': 'https://astrogeology.usgs.gov/cache/images/cfa62af2557222a02478f1fcd781d445_cerberus_enhanced.tif_full.jpg'},\n",
       " {'title': 'Schiaparelli Hemisphere Enhanced',\n",
       "  'hem_img_url': 'https://astrogeology.usgs.gov/cache/images/3cdd1cbf5e0813bba925c9030d13b62e_schiaparelli_enhanced.tif_full.jpg'},\n",
       " {'title': 'Syrtis Major Hemisphere Enhanced',\n",
       "  'hem_img_url': 'https://astrogeology.usgs.gov/cache/images/ae209b4e408bb6c3e67b6af38168cf28_syrtis_major_enhanced.tif_full.jpg'},\n",
       " {'title': 'Valles Marineris Hemisphere Enhanced',\n",
       "  'hem_img_url': 'https://astrogeology.usgs.gov/cache/images/7cf2da4bf549ed01c17f206327be4db7_valles_marineris_enhanced.tif_full.jpg'}]"
      ]
     },
     "execution_count": 19,
     "metadata": {},
     "output_type": "execute_result"
    }
   ],
   "source": [
    "# scrape to obtain high resolution images for each of Mar's hemispheres.\n",
    "# HEM_URL = \"https://astrogeology.usgs.gov/search/results?q=hemisphere+enhanced&k1=target&v1=Mars\"\n",
    "\n",
    "browser = Browser(\"firefox\")\n",
    "browser.visit(HEM_URL)\n",
    "\n",
    "urls = [(a.text, a[\"href\"]) for a in browser.find_by_css('div[class=\"description\"] a')]\n",
    "hemisphere_dict = []\n",
    "for title, url in urls:\n",
    "    product_dict = {}\n",
    "    product_dict[\"title\"] = title\n",
    "    browser.visit(url)\n",
    "    img_url = browser.find_by_css('img[class=\"wide-image\"]')[\"src\"]\n",
    "    product_dict[\"hem_img_url\"] = img_url\n",
    "    hemisphere_dict.append(product_dict)\n",
    "\n",
    "browser.quit()\n",
    "hemisphere_dict"
   ]
  },
  {
   "cell_type": "code",
   "execution_count": null,
   "metadata": {},
   "outputs": [],
   "source": []
  }
 ],
 "metadata": {
  "kernelspec": {
   "display_name": "VirtualEnv",
   "language": "python",
   "name": "python3"
  },
  "language_info": {
   "codemirror_mode": {
    "name": "ipython",
    "version": 3
   },
   "file_extension": ".py",
   "mimetype": "text/x-python",
   "name": "python",
   "nbconvert_exporter": "python",
   "pygments_lexer": "ipython3",
   "version": "3.8.0"
  }
 },
 "nbformat": 4,
 "nbformat_minor": 2
}
